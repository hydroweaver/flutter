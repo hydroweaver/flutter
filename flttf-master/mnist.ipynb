{
 "cells": [
  {
   "cell_type": "code",
   "execution_count": 1,
   "metadata": {},
   "outputs": [],
   "source": [
    "import tensorflow as tf\n",
    "from tensorflow import keras\n",
    "import numpy as np\n",
    "import matplotlib.pyplot as plt\n",
    "from PIL import Image"
   ]
  },
  {
   "cell_type": "code",
   "execution_count": 13,
   "metadata": {},
   "outputs": [
    {
     "name": "stdout",
     "output_type": "stream",
     "text": [
      "mnist dataset: train=(60000, 28, 28) test=(10000, 28, 28)\n",
      "dataset + roated images: train=(180000, 28, 28) test=(30000, 28, 28) y_train=(180000,) y_test=(30000,)\n"
     ]
    }
   ],
   "source": [
    "mnist = keras.datasets.mnist\n",
    "(x_train_orig, y_train), (x_test_orig, y_test) = mnist.load_data()\n",
    "print(\"mnist dataset: train=%s test=%s\" % (x_train_orig.shape, x_test_orig.shape))\n",
    "# print(\"x_test[0] =\", x_test[0])\n",
    "\n",
    "\n",
    "# roate the images to enlarge the dataset\n",
    "def rotate_images(arr, degree):\n",
    "    img = Image.fromarray(arr)\n",
    "    return np.array(img.rotate(degree))\n",
    "\n",
    "\n",
    "x_train_rotated_left = [rotate_images(x, 20) for x in x_train_orig]\n",
    "x_train_rotated_right = [rotate_images(x, 160) for x in x_train_orig]\n",
    "x_test_rotated_left = [rotate_images(x, 20) for x in x_test_orig]\n",
    "x_test_rotated_right = [rotate_images(x, 160) for x in x_test_orig]\n",
    "x_train_orig = np.concatenate((x_train_orig, x_train_rotated_left, x_train_rotated_right), axis=0)\n",
    "x_test_orig = np.concatenate((x_test_orig, x_test_rotated_left, x_test_rotated_right), axis=0)\n",
    "y_train = np.concatenate((y_train, y_train, y_train), axis=0)\n",
    "y_test = np.concatenate((y_test, y_test, y_test), axis=0)\n",
    "print(\"dataset + roated images: train=%s test=%s y_train=%s y_test=%s\" % (\n",
    "    x_train_orig.shape, x_test_orig.shape, y_train.shape, y_test.shape))"
   ]
  },
  {
   "cell_type": "code",
   "execution_count": 14,
   "metadata": {},
   "outputs": [
    {
     "name": "stdout",
     "output_type": "stream",
     "text": [
      "y = 2\n"
     ]
    },
    {
     "data": {
      "image/png": "[encoded data removed]",
      "text/plain": [
       "<Figure size 432x288 with 1 Axes>"
      ]
     },
     "metadata": {
      "needs_background": "light"
     },
     "output_type": "display_data"
    }
   ],
   "source": [
    "# Example of a picture\n",
    "index = 25\n",
    "plt.imshow(x_train_orig[index], cmap='gray')\n",
    "print(\"y = \" + str(y_train[index]))"
   ]
  },
  {
   "cell_type": "code",
   "execution_count": 15,
   "metadata": {},
   "outputs": [
    {
     "name": "stdout",
     "output_type": "stream",
     "text": [
      "y = 2\n"
     ]
    },
    {
     "data": {
      "image/png": "[encoded data removed]",
      "text/plain": [
       "<Figure size 432x288 with 1 Axes>"
      ]
     },
     "metadata": {
      "needs_background": "light"
     },
     "output_type": "display_data"
    }
   ],
   "source": [
    "# Example of a rotated picture\n",
    "plt.imshow(x_train_rotated_right[index], cmap='gray')\n",
    "print(\"y = \" + str(y_train[index]))"
   ]
  },
  {
   "cell_type": "code",
   "execution_count": 16,
   "metadata": {},
   "outputs": [],
   "source": [
    "x_train, x_test = x_train_orig / 255.0, x_test_orig / 255.0  # normalizing\n",
    "model = keras.models.Sequential([\n",
    "    keras.layers.Flatten(input_shape=(28, 28)),\n",
    "    keras.layers.Dense(1024, activation='relu'),\n",
    "    keras.layers.Dropout(0.2),\n",
    "    keras.layers.Dense(1024, activation='relu'),\n",
    "    keras.layers.Dropout(0.2),\n",
    "    keras.layers.Dense(512, activation='relu'),\n",
    "    keras.layers.Dropout(0.2),\n",
    "    keras.layers.Dense(512, activation='relu'),\n",
    "    keras.layers.Dropout(0.2),\n",
    "    keras.layers.Dense(512, activation='relu'),\n",
    "    keras.layers.Dropout(0.2),\n",
    "    keras.layers.Dense(10, activation='softmax'),\n",
    "])\n",
    "model.compile(optimizer='adam',\n",
    "              loss='sparse_categorical_crossentropy',\n",
    "              metrics=['accuracy'])"
   ]
  },
  {
   "cell_type": "code",
   "execution_count": 17,
   "metadata": {},
   "outputs": [],
   "source": [
    "class myCallback(keras.callbacks.Callback):\n",
    "    def on_epoch_end(self, epoch, logs={}):\n",
    "        self.model.stop_training = logs.get('accuracy') > 0.993"
   ]
  },
  {
   "cell_type": "code",
   "execution_count": null,
   "metadata": {},
   "outputs": [],
   "source": [
    "model.fit(x_train,\n",
    "          y_train,\n",
    "          epochs=50,\n",
    "          callbacks=[myCallback()])"
   ]
  },
  {
   "cell_type": "markdown",
   "metadata": {},
   "source": [
    "```\n",
    "Epoch 49/50\n",
    "180000/180000 [==============================] - 133s 739us/sample - loss: 0.0965 - accuracy: 0.9827\n",
    "Epoch 50/50\n",
    "180000/180000 [==============================] - 1042s 6ms/sample - loss: 0.1001 - accuracy: 0.9837\n",
    "```"
   ]
  },
  {
   "cell_type": "code",
   "execution_count": null,
   "metadata": {},
   "outputs": [],
   "source": [
    "model.evaluate(x_test, y_test)"
   ]
  },
  {
   "cell_type": "markdown",
   "metadata": {},
   "source": [
    "```\n",
    "8s 264us/sample - loss: 0.0880 - accuracy: 0.9830\n",
    "[0.17592055468070897, 0.98296666]\n",
    "```"
   ]
  },
  {
   "cell_type": "code",
   "execution_count": 20,
   "metadata": {},
   "outputs": [
    {
     "name": "stdout",
     "output_type": "stream",
     "text": [
      "WARNING:tensorflow:From /Users/ywu/.local/share/virtualenvs/flttf-zt_3QUYq/lib/python3.7/site-packages/tensorflow_core/python/ops/resource_variable_ops.py:1781: calling BaseResourceVariable.__init__ (from tensorflow.python.ops.resource_variable_ops) with constraint is deprecated and will be removed in a future version.\n",
      "Instructions for updating:\n",
      "If using Keras pass *_constraint arguments to layers.\n",
      "INFO:tensorflow:Assets written to: models/digits_mnist/assets\n"
     ]
    },
    {
     "data": {
      "text/plain": [
       "11637864"
      ]
     },
     "execution_count": 20,
     "metadata": {},
     "output_type": "execute_result"
    }
   ],
   "source": [
    "# save as tflite model\n",
    "tf.saved_model.save(model, 'models/mnist')\n",
    "converter = tf.lite.TFLiteConverter.from_saved_model('models/mnist')\n",
    "lite_model = converter.convert()\n",
    "open('models/mnist/mnist.tflite', 'wb').write(lite_model)"
   ]
  },
  {
   "cell_type": "code",
   "execution_count": null,
   "metadata": {},
   "outputs": [],
   "source": []
  }
 ],
 "metadata": {
  "kernelspec": {
   "display_name": "Python 3",
   "language": "python",
   "name": "python3"
  },
  "language_info": {
   "codemirror_mode": {
    "name": "ipython",
    "version": 3
   },
   "file_extension": ".py",
   "mimetype": "text/x-python",
   "name": "python",
   "nbconvert_exporter": "python",
   "pygments_lexer": "ipython3",
   "version": "3.7.4"
  }
 },
 "nbformat": 4,
 "nbformat_minor": 2
}
